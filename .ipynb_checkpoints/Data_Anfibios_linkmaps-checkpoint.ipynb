{
 "cells": [
  {
   "cell_type": "code",
   "execution_count": 1,
   "id": "17b402e6",
   "metadata": {
    "collapsed": true
   },
   "outputs": [
    {
     "name": "stdout",
     "output_type": "stream",
     "text": [
      "Defaulting to user installation because normal site-packages is not writeable\n",
      "Requirement already satisfied: selenium in c:\\programdata\\anaconda3\\lib\\site-packages (4.13.0)\n",
      "Requirement already satisfied: urllib3[socks]<3,>=1.26 in c:\\programdata\\anaconda3\\lib\\site-packages (from selenium) (1.26.16)\n",
      "Requirement already satisfied: trio~=0.17 in c:\\programdata\\anaconda3\\lib\\site-packages (from selenium) (0.22.2)\n",
      "Requirement already satisfied: trio-websocket~=0.9 in c:\\programdata\\anaconda3\\lib\\site-packages (from selenium) (0.11.1)\n",
      "Requirement already satisfied: certifi>=2021.10.8 in c:\\programdata\\anaconda3\\lib\\site-packages (from selenium) (2023.7.22)\n",
      "Requirement already satisfied: attrs>=20.1.0 in c:\\programdata\\anaconda3\\lib\\site-packages (from trio~=0.17->selenium) (22.1.0)\n",
      "Requirement already satisfied: sortedcontainers in c:\\programdata\\anaconda3\\lib\\site-packages (from trio~=0.17->selenium) (2.4.0)\n",
      "Requirement already satisfied: idna in c:\\programdata\\anaconda3\\lib\\site-packages (from trio~=0.17->selenium) (3.4)\n",
      "Requirement already satisfied: outcome in c:\\programdata\\anaconda3\\lib\\site-packages (from trio~=0.17->selenium) (1.2.0)\n",
      "Requirement already satisfied: sniffio in c:\\programdata\\anaconda3\\lib\\site-packages (from trio~=0.17->selenium) (1.2.0)\n",
      "Requirement already satisfied: cffi>=1.14 in c:\\programdata\\anaconda3\\lib\\site-packages (from trio~=0.17->selenium) (1.15.1)\n",
      "Requirement already satisfied: wsproto>=0.14 in c:\\programdata\\anaconda3\\lib\\site-packages (from trio-websocket~=0.9->selenium) (1.2.0)\n",
      "Requirement already satisfied: PySocks!=1.5.7,<2.0,>=1.5.6 in c:\\programdata\\anaconda3\\lib\\site-packages (from urllib3[socks]<3,>=1.26->selenium) (1.7.1)\n",
      "Requirement already satisfied: pycparser in c:\\programdata\\anaconda3\\lib\\site-packages (from cffi>=1.14->trio~=0.17->selenium) (2.21)\n",
      "Requirement already satisfied: h11<1,>=0.9.0 in c:\\programdata\\anaconda3\\lib\\site-packages (from wsproto>=0.14->trio-websocket~=0.9->selenium) (0.14.0)\n",
      "Defaulting to user installation because normal site-packages is not writeable\n",
      "Requirement already satisfied: PyAutoGUI in c:\\programdata\\anaconda3\\lib\\site-packages (0.9.54)\n",
      "Requirement already satisfied: pymsgbox in c:\\programdata\\anaconda3\\lib\\site-packages (from PyAutoGUI) (1.0.9)\n",
      "Requirement already satisfied: pytweening>=1.0.4 in c:\\programdata\\anaconda3\\lib\\site-packages (from PyAutoGUI) (1.0.7)\n",
      "Requirement already satisfied: pyscreeze>=0.1.21 in c:\\programdata\\anaconda3\\lib\\site-packages (from PyAutoGUI) (0.1.29)\n",
      "Requirement already satisfied: pygetwindow>=0.0.5 in c:\\programdata\\anaconda3\\lib\\site-packages (from PyAutoGUI) (0.0.9)\n",
      "Requirement already satisfied: mouseinfo in c:\\programdata\\anaconda3\\lib\\site-packages (from PyAutoGUI) (0.1.3)\n",
      "Requirement already satisfied: pyrect in c:\\programdata\\anaconda3\\lib\\site-packages (from pygetwindow>=0.0.5->PyAutoGUI) (0.2.0)\n",
      "Requirement already satisfied: pyscreenshot in c:\\programdata\\anaconda3\\lib\\site-packages (from pyscreeze>=0.1.21->PyAutoGUI) (3.1)\n",
      "Requirement already satisfied: Pillow>=9.3.0 in c:\\programdata\\anaconda3\\lib\\site-packages (from pyscreeze>=0.1.21->PyAutoGUI) (9.4.0)\n",
      "Requirement already satisfied: pyperclip in c:\\programdata\\anaconda3\\lib\\site-packages (from mouseinfo->PyAutoGUI) (1.8.2)\n",
      "Requirement already satisfied: EasyProcess in c:\\programdata\\anaconda3\\lib\\site-packages (from pyscreenshot->pyscreeze>=0.1.21->PyAutoGUI) (1.1)\n",
      "Requirement already satisfied: entrypoint2 in c:\\programdata\\anaconda3\\lib\\site-packages (from pyscreenshot->pyscreeze>=0.1.21->PyAutoGUI) (1.1)\n",
      "Requirement already satisfied: mss in c:\\programdata\\anaconda3\\lib\\site-packages (from pyscreenshot->pyscreeze>=0.1.21->PyAutoGUI) (9.0.1)\n",
      "Defaulting to user installation because normal site-packages is not writeable\n",
      "Requirement already satisfied: XlsxWriter in c:\\programdata\\anaconda3\\lib\\site-packages (3.1.6)\n",
      "Defaulting to user installation because normal site-packages is not writeable\n",
      "Requirement already satisfied: openpyxl in c:\\programdata\\anaconda3\\lib\\site-packages (3.0.10)\n",
      "Requirement already satisfied: et_xmlfile in c:\\programdata\\anaconda3\\lib\\site-packages (from openpyxl) (1.1.0)\n"
     ]
    }
   ],
   "source": [
    "!pip install selenium\n",
    "!pip install PyAutoGUI\n",
    "!pip install XlsxWriter\n",
    "!pip install openpyxl"
   ]
  },
  {
   "cell_type": "code",
   "execution_count": 2,
   "id": "23c3182c",
   "metadata": {},
   "outputs": [],
   "source": [
    "from selenium import webdriver\n",
    "from selenium.webdriver.common.by import By\n",
    "from selenium.webdriver.common.keys import Keys\n",
    "from openpyxl import load_workbook\n",
    "import pyautogui as Espera\n",
    "from selenium.webdriver.common.by import By\n",
    "import xlsxwriter\n",
    "from selenium.webdriver.common.action_chains import ActionChains\n",
    "import os"
   ]
  },
  {
   "cell_type": "code",
   "execution_count": 7,
   "id": "5a341163",
   "metadata": {},
   "outputs": [
    {
     "name": "stdout",
     "output_type": "stream",
     "text": [
      "https://www.google.com.br/maps/place/S%C3%A3o+Lu%C3%ADs,+MA/@-2.5602786,-44.4229382,11z/data=!3m1!4b1!4m6!3m5!1s0x7f68ff06f7f6d21:0x983102e459a3de47!8m2!3d-2.5306721!4d-44.2988947!16zL20vMDF6cGtw?entry=ttu\n",
      "Link adicionado\n"
     ]
    }
   ],
   "source": [
    "abrirnavegador = webdriver.Chrome()\n",
    "abrirnavegador.get(\"https://www.google.com.br/maps/preview\")\n",
    "\n",
    "Espera.sleep(5)\n",
    "\n",
    "#limpa e informa o nome do lugar\n",
    "abrirnavegador.find_element(By.NAME, \"q\").clear()\n",
    "\n",
    "abrirnavegador.find_element(By.NAME, \"q\").send_keys(\"sao luis\" )\n",
    "abrirnavegador.find_element(By.NAME, \"q\").send_keys(Keys.RETURN)\n",
    "\n",
    "Espera.sleep(5)\n",
    "\n",
    "link1 = abrirnavegador.current_url\n",
    "print(link1)\n",
    "dir_arquivo = 'C:\\\\Users\\\\Windows\\\\Desktop\\\\linksmaps.xlsx'\n",
    "links = xlsxwriter.Workbook(dir_arquivo)\n",
    "sheet1 = links.add_worksheet()\n",
    "\n",
    "sheet1.write(\"A1\", \"Link Google Maps\")\n",
    "sheet1.write(\"A2\", link1)\n",
    "\n",
    "links.close()\n",
    "os.startfile(dir_arquivo)\n",
    "\n",
    "print(\"Link adicionado\")"
   ]
  },
  {
   "cell_type": "code",
   "execution_count": 4,
   "id": "a3957d1a",
   "metadata": {},
   "outputs": [
    {
     "name": "stdout",
     "output_type": "stream",
     "text": [
      "https://www.google.com.br/maps/place/S%C3%A3o+Lu%C3%ADs,+MA/@-2.5029588,-44.2874675,14z/data=!4m6!3m5!1s0x7f68ff06f7f6d21:0x983102e459a3de47!8m2!3d-2.5306721!4d-44.2988947!16zL20vMDF6cGtw?entry=ttu\n",
      "https://www.google.com.br/maps/place/A%C3%A7ail%C3%A2ndia+-+MA/@-4.7010512,-48.0916639,9z/data=!3m1!4b1!4m6!3m5!1s0x92c5f431e59e271b:0xa799cc019a897c2e!8m2!3d-4.9539137!4d-47.5035775!16zL20vMGd5dzNo?entry=ttu\n",
      "https://www.google.com.br/maps/place/A%C3%A7ail%C3%A2ndia+-+MA/@-4.7010512,-48.0916639,9z/data=!4m6!3m5!1s0x92c5f431e59e271b:0xa799cc019a897c2e!8m2!3d-4.9539137!4d-47.5035775!16zL20vMGd5dzNo?entry=ttu\n",
      "https://www.google.com.br/maps/place/Santo+Ant%C3%B4nio+dos+Lopes,+MA,+65730-000/@-4.8684393,-44.3784667,14z/data=!3m1!4b1!4m6!3m5!1s0x7890b068257cd8d:0x203d95372805c1b6!8m2!3d-4.8684825!4d-44.357867!16s%2Fg%2F1hjh932z1?entry=ttu\n"
     ]
    }
   ],
   "source": [
    "arq_localidade = \"C:\\\\Users\\\\frgei\\\\Documents\\\\analise-anfibios\\\\extracaoLink.xlsx\"\n",
    "planilha_loc = load_workbook(arq_localidade)\n",
    "sheet_localidades = planilha_loc[\"Localidades\"]\n",
    "abrirnavegador = webdriver.Chrome()\n",
    "abrirnavegador.get(\"https://www.google.com.br/maps/preview\")\n",
    "\n",
    "for linha in range (2, len(sheet_localidades['A'])+1):\n",
    "    Espera.sleep(3)\n",
    "    #limpa e informa a localidade\n",
    "    abrirnavegador.find_element(By.NAME, \"q\").clear()\n",
    "    \n",
    "    #localidade da planilha\n",
    "    localidades = sheet_localidades['A%s' % linha].value\n",
    "    Espera.sleep(3)\n",
    "    #enviando dados da planilha \n",
    "    abrirnavegador.find_element(By.NAME, \"q\").send_keys(localidades)\n",
    "    Espera.sleep(3)\n",
    "    abrirnavegador.find_element(By.NAME, \"q\").send_keys(Keys.RETURN)\n",
    "    Espera.sleep(4)\n",
    "    #Guardando link na planilha links\n",
    "    link = abrirnavegador.current_url\n",
    "    print(link)\n",
    "    sheet_links = planilha_loc[\"Links\"]\n",
    "    \n",
    "    linhacorrente_Localidades = len(sheet_links['A'])+1\n",
    "    colunaA = \"A\" + str(linhacorrente_Localidades)\n",
    "                                    \n",
    "    #imprimindo links\n",
    "    sheet_links[colunaA] = link\n",
    "                                    \n",
    "\n",
    "planilha_loc.save(filename=arq_localidade)\n",
    "\n",
    "os.startfile(arq_localidade)\n"
   ]
  },
  {
   "cell_type": "code",
   "execution_count": null,
   "id": "2d09a97b",
   "metadata": {},
   "outputs": [],
   "source": []
  }
 ],
 "metadata": {
  "kernelspec": {
   "display_name": "Python 3 (ipykernel)",
   "language": "python",
   "name": "python3"
  },
  "language_info": {
   "codemirror_mode": {
    "name": "ipython",
    "version": 3
   },
   "file_extension": ".py",
   "mimetype": "text/x-python",
   "name": "python",
   "nbconvert_exporter": "python",
   "pygments_lexer": "ipython3",
   "version": "3.11.5"
  }
 },
 "nbformat": 4,
 "nbformat_minor": 5
}
